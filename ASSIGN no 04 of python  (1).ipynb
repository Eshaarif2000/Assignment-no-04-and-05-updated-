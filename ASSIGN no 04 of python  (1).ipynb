{
 "cells": [
  {
   "cell_type": "code",
   "execution_count": 3,
   "metadata": {},
   "outputs": [
    {
     "name": "stdout",
     "output_type": "stream",
     "text": [
      "first_name : tabreez\n",
      "last_name : khawar\n",
      "age : 24\n",
      "city : multan\n",
      "\n",
      " add qualification \n",
      "\n",
      "first_name : tabreez\n",
      "last_name : khawar\n",
      "age : 24\n",
      "city : multan\n",
      "qualification : matric\n",
      "\n",
      " add qualification \n",
      "\n",
      "first_name : tabreez\n",
      "last_name : khawar\n",
      "age : 24\n",
      "city : multan\n",
      "qualification : high academic\n"
     ]
    }
   ],
   "source": [
    "#question no 01 \n",
    "person_dict = {\"first_name\" : \"tabreez\" , \"last_name\" : \"khawar\" , \"age\" : \"24\" , \"city\" : \"multan\"} \n",
    "for key, value in person_dict.items():\n",
    "    print(key+\" : \"+value)\n",
    "print(\"\\n add qualification \\n\")\n",
    "person_dict[\"qualification\"]=\"matric\"\n",
    "for key, value in person_dict.items():\n",
    "    print(key+\" : \"+value)\n",
    "print(\"\\n add qualification \\n\")\n",
    "person_dict[\"qualification\"]=\"high academic\"\n",
    "for key, value in person_dict.items():\n",
    "    print(key+\" : \"+value)"
   ]
  },
  {
   "cell_type": "code",
   "execution_count": 6,
   "metadata": {},
   "outputs": [
    {
     "name": "stdout",
     "output_type": "stream",
     "text": [
      "\n",
      "lahore\n",
      "\n",
      "country : pakistan\n",
      "population : 12187000\n",
      "fact : laahore is the capital city of punjab province. it is the country's second most populous city after karachi\n",
      "\n",
      "karachi\n",
      "\n",
      "country : pakistan\n",
      "population : 15741000\n",
      "fact : karachi is the capital city of sindh province . it is vital to pakistan economy\n",
      "\n",
      "islamabad\n",
      "\n",
      "country : pakistan\n",
      "population : 1095064\n",
      "fact : islamabad is the capital of pakistan\n"
     ]
    }
   ],
   "source": [
    "#question no 02\n",
    "cities={\n",
    "    \"lahore\":{\n",
    "        \"country\":\"pakistan\",\n",
    "        \"population\":12187000,\n",
    "        \"fact\":\"laahore is the capital city of punjab province. it is the country's second most populous city after karachi\"\n",
    "    },\n",
    "    \"karachi\":{\n",
    "        \"country\":\"pakistan\",\n",
    "        \"population\":15741000,\n",
    "        \"fact\":\"karachi is the capital city of sindh province . it is vital to pakistan economy\"\n",
    "    },\n",
    "    \"islamabad\":{\n",
    "        \"country\":\"pakistan\",\n",
    "        \"population\":1095064,\n",
    "        \"fact\":\"islamabad is the capital of pakistan\"\n",
    "    }\n",
    "}\n",
    "for citykey,cityinfo in cities.items():\n",
    "    print(\"\\n\"+citykey+\"\\n\")\n",
    "    for city in cityinfo:\n",
    "        print(city+\" : \"+str(cityinfo[city]))"
   ]
  },
  {
   "cell_type": "code",
   "execution_count": 2,
   "metadata": {},
   "outputs": [
    {
     "name": "stdout",
     "output_type": "stream",
     "text": [
      "enter age : 24\n",
      "ticket is $15\n",
      "do you want to take the ticket y/n:y\n",
      "enter age : 6\n",
      "ticket is $10\n",
      "do you want to take the ticket y/n:y\n",
      "enter age : 2\n",
      "ticket is free\n",
      "do you want to take the ticket y/n:n\n"
     ]
    }
   ],
   "source": [
    "#question no 03\n",
    "flag = 'y'\n",
    "while flag!='n':\n",
    "    age=int(input(\"enter age : \"))\n",
    "    if age>12:\n",
    "        print(\"ticket is $15\")\n",
    "    elif age>=3:\n",
    "        print(\"ticket is $10\")\n",
    "    else:\n",
    "        print(\"ticket is free\")\n",
    "    flag=input(\"do you want to take the ticket y/n:\")"
   ]
  },
  {
   "cell_type": "code",
   "execution_count": 3,
   "metadata": {},
   "outputs": [
    {
     "name": "stdout",
     "output_type": "stream",
     "text": [
      "One of my favouurite book is Alchemist.\n"
     ]
    }
   ],
   "source": [
    "#question no 04\n",
    "def favourite_book(title):\n",
    "    print(title)\n",
    "book_title=\"One of my favouurite book is Alchemist.\"\n",
    "if(len(book_title)!=0):\n",
    "    favourite_book(book_title)\n",
    "else:\n",
    "    print(\"please populate the book title\")"
   ]
  },
  {
   "cell_type": "code",
   "execution_count": 5,
   "metadata": {},
   "outputs": [
    {
     "name": "stdout",
     "output_type": "stream",
     "text": [
      "enter number between 1 and 30: 9\n",
      "hidden number is greater\n",
      "\n",
      "enter number between 1 and 30: 20\n",
      "hidden number is equal\n",
      "\n",
      "enter number between 1 and 30: 19\n",
      "hidden number is equal\n",
      "\n"
     ]
    }
   ],
   "source": [
    "#question no 05\n",
    "import random\n",
    "c=0\n",
    "rNumber=0\n",
    "while c<3:\n",
    "    rNumber=int(random.randrange(1,30))\n",
    "    userNumber=int(input(\"enter number between 1 and 30: \"))\n",
    "    c=c+1\n",
    "    if rNumber>userNumber:\n",
    "        print(\"hidden number is greater\\n\")\n",
    "    elif rNumber>userNumber:\n",
    "        print(\"hidden number is smaller\\n\")\n",
    "    else:\n",
    "        print(\"hidden number is equal\\n\")"
   ]
  },
  {
   "cell_type": "code",
   "execution_count": null,
   "metadata": {},
   "outputs": [],
   "source": []
  }
 ],
 "metadata": {
  "kernelspec": {
   "display_name": "Python 3",
   "language": "python",
   "name": "python3"
  },
  "language_info": {
   "codemirror_mode": {
    "name": "ipython",
    "version": 3
   },
   "file_extension": ".py",
   "mimetype": "text/x-python",
   "name": "python",
   "nbconvert_exporter": "python",
   "pygments_lexer": "ipython3",
   "version": "3.7.4"
  }
 },
 "nbformat": 4,
 "nbformat_minor": 2
}

{
 "cells": [
  {
   "cell_type": "code",
   "execution_count": 5,
   "metadata": {},
   "outputs": [],
   "source": [
    "#question no 01 \n",
    "def isPositiveInteger(number):\n",
    "    if int(number)>0:\n",
    "        return true\n",
    "    else:\n",
    "        return false\n",
    "def calcFactorial(number):\n",
    "    factorial = 1\n",
    "    if isPositiveInteger(number) == true:\n",
    "        number = int(number)\n",
    "        for i in range(1, number + 1):\n",
    "            factorial = factorial * i\n",
    "        print(factorial)\n",
    "    else:\n",
    "        print(\"invalid input\")"
   ]
  },
  {
   "cell_type": "code",
   "execution_count": 6,
   "metadata": {},
   "outputs": [],
   "source": [
    "#question no 02\n",
    "def caseCounter(string):\n",
    "    upper = 0\n",
    "    lower = 0\n",
    "    standardString = 'abcdefghijklmnopqrstuvwxyz'\n",
    "    for letters in string:\n",
    "        for sampleLetter in standardString:\n",
    "            if letter == sampleLetter:\n",
    "                lower += 1\n",
    "            elif letter == sampleLetter.upper():\n",
    "                upper += 1\n",
    "            else:\n",
    "                print(\"invalid input\")\n",
    "    print(\"upper case letter in the string are: {}.\\n lower case letters in the string are: {}\".format(upper.lower))"
   ]
  },
  {
   "cell_type": "code",
   "execution_count": 9,
   "metadata": {},
   "outputs": [
    {
     "name": "stdout",
     "output_type": "stream",
     "text": [
      "2\n",
      "34\n",
      "54\n",
      "24\n"
     ]
    }
   ],
   "source": [
    "#question no 03\n",
    "randomlist = [2, 23, 45, 34, 54, 87, 99, 24]\n",
    "for element in randomlist :\n",
    "    if element % 2 == 0:\n",
    "        print(element)"
   ]
  },
  {
   "cell_type": "code",
   "execution_count": 10,
   "metadata": {},
   "outputs": [],
   "source": [
    "#question no 04 \n",
    "def ispalindrom(palword):\n",
    "    firsthalf = []\n",
    "    secondhalf = []\n",
    "    if len(palword) % 2 == 1:\n",
    "        oddlist = (len(palword) // 2)\n",
    "        for element in range(oddlist):\n",
    "            firsthalf.append(palword[element])\n",
    "        for element in range(-1, -(len(palword)-oddlist), -1):\n",
    "            secondhalf.append(palword[element])\n",
    "    else:\n",
    "        print(\"not palindrom word\")\n",
    "    palindrom = false\n",
    "    for element in range(len(firsthalf)):\n",
    "        if firsthalf[element] == secondhalf[element]:\n",
    "            palindrom = true\n",
    "    if palindrom == true:\n",
    "        print(\"{} is a palindrom\".format(palword))\n",
    "    else:\n",
    "        print(\"not a palindrom\")"
   ]
  },
  {
   "cell_type": "code",
   "execution_count": 13,
   "metadata": {},
   "outputs": [],
   "source": [
    "#question no 05 \n",
    "def ispositiveinteger(number):\n",
    "    try:\n",
    "        number = int(number)\n",
    "        return true\n",
    "    except:\n",
    "        return false\n",
    "def checkprime(number):\n",
    "    isprime = ispositiveinteger(number)\n",
    "    if isprime:\n",
    "        number = int(number)\n",
    "        for i in range(2, number):\n",
    "            if (number % i == 0):\n",
    "                print(\"not a prime number\")\n",
    "                print(\"{ } times { } is a { }.\".format(i, number // i, number))\n",
    "                break\n",
    "            else:\n",
    "                print(\"{ } is a prime number.\".format(number))\n",
    "        else:\n",
    "            print(\"enter positive integers only\")"
   ]
  },
  {
   "cell_type": "code",
   "execution_count": 14,
   "metadata": {},
   "outputs": [],
   "source": [
    "#question no 06\n",
    "def shoppinglist(*items):\n",
    "    shoppingitems = []\n",
    "    while true:\n",
    "        items = input(\"enter shopping items [-1 to abort]: \")\n",
    "        if item != '-1':\n",
    "            shoppingitems.append(item)\n",
    "        else:\n",
    "            break\n",
    "    for item in range(len(shoppingitems)):\n",
    "        print(\"you purchased: {}\".format(shoppingitems[item]))"
   ]
  },
  {
   "cell_type": "code",
   "execution_count": null,
   "metadata": {},
   "outputs": [],
   "source": []
  }
 ],
 "metadata": {
  "kernelspec": {
   "display_name": "Python 3",
   "language": "python",
   "name": "python3"
  },
  "language_info": {
   "codemirror_mode": {
    "name": "ipython",
    "version": 3
   },
   "file_extension": ".py",
   "mimetype": "text/x-python",
   "name": "python",
   "nbconvert_exporter": "python",
   "pygments_lexer": "ipython3",
   "version": "3.7.4"
  }
 },
 "nbformat": 4,
 "nbformat_minor": 2
}
